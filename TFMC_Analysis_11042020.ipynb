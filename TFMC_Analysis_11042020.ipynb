{
 "cells": [
  {
   "cell_type": "code",
   "execution_count": 4,
   "metadata": {
    "jupyter": {
     "source_hidden": true
    }
   },
   "outputs": [
    {
     "name": "stdout",
     "output_type": "stream",
     "text": [
      "Collecting lmfit\n",
      "  Using cached lmfit-1.0.1.tar.gz (258 kB)\n",
      "Collecting asteval>=0.9.16\n",
      "  Using cached asteval-0.9.19.tar.gz (207 kB)\n",
      "Requirement already satisfied: numpy>=1.16 in c:\\users\\dcordova\\anaconda3\\lib\\site-packages (from lmfit) (1.18.5)\n",
      "Requirement already satisfied: scipy>=1.2 in c:\\users\\dcordova\\anaconda3\\lib\\site-packages (from lmfit) (1.5.0)\n",
      "Collecting uncertainties>=3.0.1\n",
      "  Using cached uncertainties-3.1.4-py2.py3-none-any.whl (246 kB)\n",
      "Requirement already satisfied: future in c:\\users\\dcordova\\anaconda3\\lib\\site-packages (from uncertainties>=3.0.1->lmfit) (0.18.2)\n",
      "Building wheels for collected packages: lmfit, asteval\n",
      "  Building wheel for lmfit (setup.py): started\n",
      "  Building wheel for lmfit (setup.py): finished with status 'done'\n",
      "  Created wheel for lmfit: filename=lmfit-1.0.1-py3-none-any.whl size=82005 sha256=b055a79014b49948346e6414d2ecc80929c89a254230da946281e53c1b53820d\n",
      "  Stored in directory: c:\\users\\dcordova\\appdata\\local\\pip\\cache\\wheels\\b6\\e0\\3d\\52a095d9f869ec51e0f8052e4e80bf8e8d844d574e3f7d214b\n",
      "  Building wheel for asteval (setup.py): started\n",
      "  Building wheel for asteval (setup.py): finished with status 'done'\n",
      "  Created wheel for asteval: filename=asteval-0.9.19-py3-none-any.whl size=17499 sha256=071351c95dca44fae51272e88448e540eb0d446119c033a74ecac0fb6f825839\n",
      "  Stored in directory: c:\\users\\dcordova\\appdata\\local\\pip\\cache\\wheels\\6b\\fe\\61\\bf48e349c0a5d9683e8fdb9a31b8500ac809d88a8c26022cc9\n",
      "Successfully built lmfit asteval\n",
      "Installing collected packages: asteval, uncertainties, lmfit\n",
      "Successfully installed asteval-0.9.19 lmfit-1.0.1 uncertainties-3.1.4\n",
      "Note: you may need to restart the kernel to use updated packages.\n"
     ]
    }
   ],
   "source": [
    "pip install lmfit"
   ]
  },
  {
   "cell_type": "code",
   "execution_count": 2,
   "metadata": {},
   "outputs": [
    {
     "name": "stdout",
     "output_type": "stream",
     "text": [
      "Collecting peakutilsNote: you may need to restart the kernel to use updated packages.\n",
      "\n",
      "  Downloading PeakUtils-1.3.3-py3-none-any.whl (7.7 kB)\n",
      "Requirement already satisfied: numpy in c:\\users\\dcordova\\anaconda3\\lib\\site-packages (from peakutils) (1.18.5)\n",
      "Requirement already satisfied: scipy in c:\\users\\dcordova\\anaconda3\\lib\\site-packages (from peakutils) (1.5.0)\n",
      "Installing collected packages: peakutils\n",
      "Successfully installed peakutils-1.3.3\n"
     ]
    }
   ],
   "source": []
  },
  {
   "cell_type": "code",
   "execution_count": 11,
   "metadata": {},
   "outputs": [
    {
     "name": "stdin",
     "output_type": "stream",
     "text": [
      "Input date in YYYYMMDD format \n",
      " 20200925\n",
      "manual(m) or list(l) \n",
      " m\n",
      "Input shot numbers (separated by spaces): \n",
      " 120 121 122\n"
     ]
    },
    {
     "name": "stdout",
     "output_type": "stream",
     "text": [
      "C:\\Users\\dcordova\\CFS Dropbox\\Denisse Cordova Carrizales\\77K_rig_analysis\n"
     ]
    },
    {
     "name": "stdin",
     "output_type": "stream",
     "text": [
      "Name of Data Folder TFMC\n",
      "Date of Data Batch 092520-10222020\n"
     ]
    },
    {
     "name": "stdout",
     "output_type": "stream",
     "text": [
      "C:\\Users\\dcordova\\CFS Dropbox\\Denisse Cordova Carrizales\\77K_rig_analysis\\TFMC\\092520-10222020\\20200925120.csv\n",
      "[[Variables]]\n",
      "    Ic:  185.543444 +/- 189.269085 (102.01%) (init = 125)\n",
      "    n:   3.54275781 +/- 7.63656852 (215.55%) (init = 20)\n",
      "[[Correlations]] (unreported correlations are < 0.100)\n",
      "    C(Ic, n) = -0.965\n",
      "<class 'float'>\n",
      "<class 'float'>\n",
      "<class 'pandas.core.series.Series'>\n",
      "##################plotting!!!############\n",
      "C:\\Users\\dcordova\\CFS Dropbox\\Denisse Cordova Carrizales\\77K_rig_analysis\n"
     ]
    },
    {
     "name": "stdin",
     "output_type": "stream",
     "text": [
      "Name of Data Folder TFMC\n",
      "Date of Data Batch idk\n"
     ]
    },
    {
     "name": "stdout",
     "output_type": "stream",
     "text": [
      "C:\\Users\\dcordova\\CFS Dropbox\\Denisse Cordova Carrizales\\77K_rig_analysis\\TFMC\\idk\\20200925121.csv\n"
     ]
    },
    {
     "ename": "FileNotFoundError",
     "evalue": "[Errno 2] No such file or directory: 'C:\\\\Users\\\\dcordova\\\\CFS Dropbox\\\\Denisse Cordova Carrizales\\\\77K_rig_analysis\\\\TFMC\\\\idk\\\\20200925121.csv'",
     "output_type": "error",
     "traceback": [
      "\u001b[1;31m---------------------------------------------------------------------------\u001b[0m",
      "\u001b[1;31mFileNotFoundError\u001b[0m                         Traceback (most recent call last)",
      "\u001b[1;32m~\\CFS Dropbox\\Denisse Cordova Carrizales\\77K_rig_analysis\\calculate_IC.py\u001b[0m in \u001b[0;36m<module>\u001b[1;34m\u001b[0m\n\u001b[0;32m    539\u001b[0m \u001b[1;33m\u001b[0m\u001b[0m\n\u001b[0;32m    540\u001b[0m \u001b[1;31m#Execute I-V curve\u001b[0m\u001b[1;33m\u001b[0m\u001b[1;33m\u001b[0m\u001b[1;33m\u001b[0m\u001b[0m\n\u001b[1;32m--> 541\u001b[1;33m \u001b[0mplot_data\u001b[0m\u001b[1;33m(\u001b[0m\u001b[0mshot_list\u001b[0m\u001b[1;33m,\u001b[0m \u001b[0mbaseline_min\u001b[0m\u001b[1;33m,\u001b[0m \u001b[0mbaseline_max\u001b[0m\u001b[1;33m,\u001b[0m \u001b[0mcurrent_thresh\u001b[0m\u001b[1;33m,\u001b[0m \u001b[0mplot_result\u001b[0m\u001b[1;33m)\u001b[0m\u001b[1;33m\u001b[0m\u001b[1;33m\u001b[0m\u001b[0m\n\u001b[0m\u001b[0;32m    542\u001b[0m \u001b[1;33m\u001b[0m\u001b[0m\n\u001b[0;32m    543\u001b[0m \u001b[1;33m\u001b[0m\u001b[0m\n",
      "\u001b[1;32m~\\CFS Dropbox\\Denisse Cordova Carrizales\\77K_rig_analysis\\calculate_IC.py\u001b[0m in \u001b[0;36mplot_data\u001b[1;34m(shot_list, baseline_min, baseline_max, current_thresh, plot_result)\u001b[0m\n\u001b[0;32m    300\u001b[0m         \u001b[1;32mfor\u001b[0m \u001b[0mshot_number\u001b[0m \u001b[1;32min\u001b[0m \u001b[0mshot_list\u001b[0m\u001b[1;33m:\u001b[0m\u001b[1;33m\u001b[0m\u001b[1;33m\u001b[0m\u001b[0m\n\u001b[0;32m    301\u001b[0m                 \u001b[1;31m# params_array = [Ic_temp, n_temp, Ic_error_temp, n_error_temp, currents_temp, voltages_temp, V_floor_temp, Vc_temp]\u001b[0m\u001b[1;33m\u001b[0m\u001b[1;33m\u001b[0m\u001b[1;33m\u001b[0m\u001b[0m\n\u001b[1;32m--> 302\u001b[1;33m                 \u001b[0mparams_array\u001b[0m \u001b[1;33m=\u001b[0m \u001b[0mfit_data\u001b[0m\u001b[1;33m(\u001b[0m\u001b[0mshot_number\u001b[0m\u001b[1;33m,\u001b[0m \u001b[0mbaseline_min\u001b[0m\u001b[1;33m,\u001b[0m \u001b[0mbaseline_max\u001b[0m\u001b[1;33m,\u001b[0m \u001b[0mcurrent_thresh\u001b[0m\u001b[1;33m,\u001b[0m \u001b[0mplot_result\u001b[0m\u001b[1;33m)\u001b[0m\u001b[1;33m\u001b[0m\u001b[1;33m\u001b[0m\u001b[0m\n\u001b[0m\u001b[0;32m    303\u001b[0m                 \u001b[0mIc_array\u001b[0m\u001b[1;33m[\u001b[0m\u001b[0mi\u001b[0m\u001b[1;33m]\u001b[0m \u001b[1;33m=\u001b[0m \u001b[0mparams_array\u001b[0m\u001b[1;33m[\u001b[0m\u001b[1;36m0\u001b[0m\u001b[1;33m]\u001b[0m\u001b[1;33m/\u001b[0m\u001b[1;36m1\u001b[0m\u001b[1;33m\u001b[0m\u001b[1;33m\u001b[0m\u001b[0m\n\u001b[0;32m    304\u001b[0m                 \u001b[0mn_array\u001b[0m\u001b[1;33m[\u001b[0m\u001b[0mi\u001b[0m\u001b[1;33m]\u001b[0m \u001b[1;33m=\u001b[0m \u001b[0mparams_array\u001b[0m\u001b[1;33m[\u001b[0m\u001b[1;36m1\u001b[0m\u001b[1;33m]\u001b[0m\u001b[1;33m/\u001b[0m\u001b[1;36m1\u001b[0m\u001b[1;33m\u001b[0m\u001b[1;33m\u001b[0m\u001b[0m\n",
      "\u001b[1;32m~\\CFS Dropbox\\Denisse Cordova Carrizales\\77K_rig_analysis\\calculate_IC.py\u001b[0m in \u001b[0;36mfit_data\u001b[1;34m(shot_number, baseline_min, baseline_max, current_thresh, plot_result)\u001b[0m\n\u001b[0;32m    136\u001b[0m         \u001b[0mheader_info\u001b[0m \u001b[1;33m=\u001b[0m \u001b[1;33m[\u001b[0m\u001b[1;33m]\u001b[0m\u001b[1;33m\u001b[0m\u001b[1;33m\u001b[0m\u001b[0m\n\u001b[0;32m    137\u001b[0m \u001b[1;33m\u001b[0m\u001b[0m\n\u001b[1;32m--> 138\u001b[1;33m         \u001b[0mf\u001b[0m \u001b[1;33m=\u001b[0m \u001b[0mopen\u001b[0m\u001b[1;33m(\u001b[0m\u001b[0mdata_file_path\u001b[0m\u001b[1;33m)\u001b[0m\u001b[1;33m\u001b[0m\u001b[1;33m\u001b[0m\u001b[0m\n\u001b[0m\u001b[0;32m    139\u001b[0m         \u001b[1;32mfor\u001b[0m \u001b[0mi\u001b[0m \u001b[1;32min\u001b[0m \u001b[0mrange\u001b[0m\u001b[1;33m(\u001b[0m\u001b[0mheader_lines\u001b[0m\u001b[1;33m)\u001b[0m\u001b[1;33m:\u001b[0m\u001b[1;33m\u001b[0m\u001b[1;33m\u001b[0m\u001b[0m\n\u001b[0;32m    140\u001b[0m                 \u001b[0mheader_info\u001b[0m\u001b[1;33m.\u001b[0m\u001b[0mappend\u001b[0m\u001b[1;33m(\u001b[0m\u001b[0mf\u001b[0m\u001b[1;33m.\u001b[0m\u001b[0mreadline\u001b[0m\u001b[1;33m(\u001b[0m\u001b[1;33m)\u001b[0m\u001b[1;33m)\u001b[0m\u001b[1;33m\u001b[0m\u001b[1;33m\u001b[0m\u001b[0m\n",
      "\u001b[1;31mFileNotFoundError\u001b[0m: [Errno 2] No such file or directory: 'C:\\\\Users\\\\dcordova\\\\CFS Dropbox\\\\Denisse Cordova Carrizales\\\\77K_rig_analysis\\\\TFMC\\\\idk\\\\20200925121.csv'"
     ]
    },
    {
     "data": {
      "image/png": "[encoded data removed]",
      "text/plain": [
       "<Figure size 432x288 with 1 Axes>"
      ]
     },
     "metadata": {
      "needs_background": "light"
     },
     "output_type": "display_data"
    }
   ],
   "source": [
    "%run calculate_IC.py"
   ]
  },
  {
   "cell_type": "code",
   "execution_count": null,
   "metadata": {},
   "outputs": [],
   "source": []
  }
 ],
 "metadata": {
  "kernelspec": {
   "display_name": "Python 3",
   "language": "python",
   "name": "python3"
  },
  "language_info": {
   "codemirror_mode": {
    "name": "ipython",
    "version": 3
   },
   "file_extension": ".py",
   "mimetype": "text/x-python",
   "name": "python",
   "nbconvert_exporter": "python",
   "pygments_lexer": "ipython3",
   "version": "3.8.3"
  }
 },
 "nbformat": 4,
 "nbformat_minor": 4
}
